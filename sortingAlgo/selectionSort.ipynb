{
 "cells": [
  {
   "cell_type": "code",
   "execution_count": 2,
   "metadata": {},
   "outputs": [
    {
     "name": "stdout",
     "output_type": "stream",
     "text": [
      "[2, 3, 4, 33, 99, 100, 523]\n"
     ]
    }
   ],
   "source": [
    "def selectionSort(arr):\n",
    "    n = len(arr)\n",
    "\n",
    "    for i in range(n):\n",
    "        minimum_index = i\n",
    "        for j in range(i+1, n):\n",
    "            if arr[j] < arr[minimum_index]:\n",
    "                minimum_index = j\n",
    "         # swapping only after each pass\n",
    "        arr[minimum_index], arr[i] = arr[i] ,  arr[minimum_index]\n",
    "    \n",
    "    return arr\n",
    "\n",
    "\n",
    "## DRIVER CODE\n",
    "a= [4,3,2,99,100,33,523]\n",
    "ans = selectionSort(a)\n",
    "print(ans)"
   ]
  },
  {
   "cell_type": "markdown",
   "metadata": {},
   "source": [
    "No of Comparisions:\n",
    "\n",
    "-> Pass1 : n-1\n",
    "\n",
    "-> Pass2 : n-2\n",
    "\n",
    "-> Pass3 : n-3\n",
    "\n",
    "-> Pass4 : n-4\n",
    "\n",
    ".\n",
    "\n",
    ".\n",
    "\n",
    ".\n",
    "\n",
    "-> Passn : 1\n",
    "\n",
    "__TIME COMPLEXITY__ :  O(n^2)\n"
   ]
  }
 ],
 "metadata": {
  "kernelspec": {
   "display_name": "Python 3.10.4 64-bit",
   "language": "python",
   "name": "python3"
  },
  "language_info": {
   "codemirror_mode": {
    "name": "ipython",
    "version": 3
   },
   "file_extension": ".py",
   "mimetype": "text/x-python",
   "name": "python",
   "nbconvert_exporter": "python",
   "pygments_lexer": "ipython3",
   "version": "3.10.4"
  },
  "orig_nbformat": 4,
  "vscode": {
   "interpreter": {
    "hash": "aee8b7b246df8f9039afb4144a1f6fd8d2ca17a180786b69acc140d282b71a49"
   }
  }
 },
 "nbformat": 4,
 "nbformat_minor": 2
}
