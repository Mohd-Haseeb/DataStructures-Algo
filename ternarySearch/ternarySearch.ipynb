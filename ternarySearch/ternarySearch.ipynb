{
 "cells": [
  {
   "cell_type": "markdown",
   "metadata": {},
   "source": [
    "## Ternary Search\n",
    "\n",
    "- In this we divide the array into 3 parts.\n",
    "\n",
    "- So, we get 2 mids\n",
    "\n",
    "- mid1 = l + (r-l)//3\n",
    "- mid2 = r - (r-l)//3"
   ]
  },
  {
   "cell_type": "code",
   "execution_count": 6,
   "metadata": {},
   "outputs": [
    {
     "name": "stdout",
     "output_type": "stream",
     "text": [
      "-1\n"
     ]
    }
   ],
   "source": [
    "def ternarySearch(arr, left, right, key):\n",
    "    while left <= right:\n",
    "        mid1 = left + (right-left)//3\n",
    "        mid2 = right - (right-left)//3\n",
    "        if arr[mid1] == key:\n",
    "            return mid1\n",
    "        \n",
    "        if arr[mid2] == key:\n",
    "            return mid2\n",
    "        \n",
    "        # first part of array\n",
    "        if key < arr[mid1]:\n",
    "            return ternarySearch(arr, left, mid1-1, key)\n",
    "\n",
    "        # second part of array\n",
    "        if key > arr[mid2]:\n",
    "            return ternarySearch(arr, mid2+1, right, key)\n",
    "            \n",
    "        # last part of array\n",
    "        else:\n",
    "            return ternarySearch(arr, mid1+1, mid2-1, key)\n",
    "\n",
    "    return -1\n",
    "\n",
    "\n",
    "# DRIVER CODE\n",
    "a = [20,25,47,56,59,63,65,79,82]\n",
    "k=27\n",
    "\n",
    "ans = ternarySearch(a, 0, len(a)-1, k)\n",
    "\n",
    "print(ans)"
   ]
  },
  {
   "cell_type": "markdown",
   "metadata": {},
   "source": [
    "Recurrence Relation -> T(n) = T(n/3) + c\n",
    "\n",
    "O(log n); base =3\n",
    "\n",
    "More optimized Time Complexity between Binary and Ternary search is \n",
    "     "
   ]
  },
  {
   "cell_type": "markdown",
   "metadata": {},
   "source": [
    "## q) Why Binary search is more prefarable then Ternary Search ?"
   ]
  },
  {
   "cell_type": "code",
   "execution_count": null,
   "metadata": {},
   "outputs": [],
   "source": []
  },
  {
   "cell_type": "code",
   "execution_count": null,
   "metadata": {},
   "outputs": [],
   "source": []
  }
 ],
 "metadata": {
  "kernelspec": {
   "display_name": "Python 3.10.4 64-bit",
   "language": "python",
   "name": "python3"
  },
  "language_info": {
   "codemirror_mode": {
    "name": "ipython",
    "version": 3
   },
   "file_extension": ".py",
   "mimetype": "text/x-python",
   "name": "python",
   "nbconvert_exporter": "python",
   "pygments_lexer": "ipython3",
   "version": "3.10.4"
  },
  "orig_nbformat": 4,
  "vscode": {
   "interpreter": {
    "hash": "aee8b7b246df8f9039afb4144a1f6fd8d2ca17a180786b69acc140d282b71a49"
   }
  }
 },
 "nbformat": 4,
 "nbformat_minor": 2
}
